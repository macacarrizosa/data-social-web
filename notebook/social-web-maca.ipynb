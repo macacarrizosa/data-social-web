{
 "cells": [
  {
   "cell_type": "code",
   "execution_count": 1,
   "metadata": {},
   "outputs": [],
   "source": [
    "import pandas as pd\n",
    "import numpy as np\n",
    "import scipy as sp\n",
    "import chart_studio.plotly as py"
   ]
  },
  {
   "cell_type": "code",
   "execution_count": 2,
   "metadata": {},
   "outputs": [
    {
     "name": "stderr",
     "output_type": "stream",
     "text": [
      "/Users/macarenacarrizosa/data-class/pitch4/venv/lib/python3.7/site-packages/IPython/core/interactiveshell.py:3063: DtypeWarning: Columns (15) have mixed types.Specify dtype option on import or set low_memory=False.\n",
      "  interactivity=interactivity, compiler=compiler, result=result)\n"
     ]
    }
   ],
   "source": [
    "honduras_tweets = pd.read_csv('../data/honduras_022020_tweets_csv_hashed.csv')"
   ]
  },
  {
   "cell_type": "code",
   "execution_count": 3,
   "metadata": {},
   "outputs": [
    {
     "data": {
      "text/html": [
       "<div>\n",
       "<style scoped>\n",
       "    .dataframe tbody tr th:only-of-type {\n",
       "        vertical-align: middle;\n",
       "    }\n",
       "\n",
       "    .dataframe tbody tr th {\n",
       "        vertical-align: top;\n",
       "    }\n",
       "\n",
       "    .dataframe thead th {\n",
       "        text-align: right;\n",
       "    }\n",
       "</style>\n",
       "<table border=\"1\" class=\"dataframe\">\n",
       "  <thead>\n",
       "    <tr style=\"text-align: right;\">\n",
       "      <th></th>\n",
       "      <th>tweetid</th>\n",
       "      <th>userid</th>\n",
       "      <th>user_display_name</th>\n",
       "      <th>user_screen_name</th>\n",
       "      <th>user_reported_location</th>\n",
       "      <th>user_profile_description</th>\n",
       "      <th>user_profile_url</th>\n",
       "      <th>follower_count</th>\n",
       "      <th>following_count</th>\n",
       "      <th>account_creation_date</th>\n",
       "      <th>...</th>\n",
       "      <th>latitude</th>\n",
       "      <th>longitude</th>\n",
       "      <th>quote_count</th>\n",
       "      <th>reply_count</th>\n",
       "      <th>like_count</th>\n",
       "      <th>retweet_count</th>\n",
       "      <th>hashtags</th>\n",
       "      <th>urls</th>\n",
       "      <th>user_mentions</th>\n",
       "      <th>poll_choices</th>\n",
       "    </tr>\n",
       "  </thead>\n",
       "  <tbody>\n",
       "    <tr>\n",
       "      <th>0</th>\n",
       "      <td>996128614897934336</td>\n",
       "      <td>L7dE0uNzsF7jsB9YfAfBc2qBOPuw+jbDuSdBAfiRQ0k=</td>\n",
       "      <td>L7dE0uNzsF7jsB9YfAfBc2qBOPuw+jbDuSdBAfiRQ0k=</td>\n",
       "      <td>L7dE0uNzsF7jsB9YfAfBc2qBOPuw+jbDuSdBAfiRQ0k=</td>\n",
       "      <td>Honduras</td>\n",
       "      <td>Nena y gordo son mi vida 😍😘</td>\n",
       "      <td>NaN</td>\n",
       "      <td>91</td>\n",
       "      <td>138</td>\n",
       "      <td>2017-12-01</td>\n",
       "      <td>...</td>\n",
       "      <td>absent</td>\n",
       "      <td>absent</td>\n",
       "      <td>0.0</td>\n",
       "      <td>0.0</td>\n",
       "      <td>0.0</td>\n",
       "      <td>0.0</td>\n",
       "      <td>['VidaMejor']</td>\n",
       "      <td>[]</td>\n",
       "      <td>['58244743']</td>\n",
       "      <td>NaN</td>\n",
       "    </tr>\n",
       "    <tr>\n",
       "      <th>1</th>\n",
       "      <td>968912372512493568</td>\n",
       "      <td>L7dE0uNzsF7jsB9YfAfBc2qBOPuw+jbDuSdBAfiRQ0k=</td>\n",
       "      <td>L7dE0uNzsF7jsB9YfAfBc2qBOPuw+jbDuSdBAfiRQ0k=</td>\n",
       "      <td>L7dE0uNzsF7jsB9YfAfBc2qBOPuw+jbDuSdBAfiRQ0k=</td>\n",
       "      <td>Honduras</td>\n",
       "      <td>Nena y gordo son mi vida 😍😘</td>\n",
       "      <td>NaN</td>\n",
       "      <td>91</td>\n",
       "      <td>138</td>\n",
       "      <td>2017-12-01</td>\n",
       "      <td>...</td>\n",
       "      <td>absent</td>\n",
       "      <td>absent</td>\n",
       "      <td>0.0</td>\n",
       "      <td>0.0</td>\n",
       "      <td>0.0</td>\n",
       "      <td>0.0</td>\n",
       "      <td>[]</td>\n",
       "      <td>[]</td>\n",
       "      <td>['58244743']</td>\n",
       "      <td>NaN</td>\n",
       "    </tr>\n",
       "    <tr>\n",
       "      <th>2</th>\n",
       "      <td>1022125643784445952</td>\n",
       "      <td>L7dE0uNzsF7jsB9YfAfBc2qBOPuw+jbDuSdBAfiRQ0k=</td>\n",
       "      <td>L7dE0uNzsF7jsB9YfAfBc2qBOPuw+jbDuSdBAfiRQ0k=</td>\n",
       "      <td>L7dE0uNzsF7jsB9YfAfBc2qBOPuw+jbDuSdBAfiRQ0k=</td>\n",
       "      <td>Honduras</td>\n",
       "      <td>Nena y gordo son mi vida 😍😘</td>\n",
       "      <td>NaN</td>\n",
       "      <td>91</td>\n",
       "      <td>138</td>\n",
       "      <td>2017-12-01</td>\n",
       "      <td>...</td>\n",
       "      <td>absent</td>\n",
       "      <td>absent</td>\n",
       "      <td>0.0</td>\n",
       "      <td>0.0</td>\n",
       "      <td>0.0</td>\n",
       "      <td>0.0</td>\n",
       "      <td>[]</td>\n",
       "      <td>[]</td>\n",
       "      <td>['58244743']</td>\n",
       "      <td>NaN</td>\n",
       "    </tr>\n",
       "    <tr>\n",
       "      <th>3</th>\n",
       "      <td>990399838603960320</td>\n",
       "      <td>L7dE0uNzsF7jsB9YfAfBc2qBOPuw+jbDuSdBAfiRQ0k=</td>\n",
       "      <td>L7dE0uNzsF7jsB9YfAfBc2qBOPuw+jbDuSdBAfiRQ0k=</td>\n",
       "      <td>L7dE0uNzsF7jsB9YfAfBc2qBOPuw+jbDuSdBAfiRQ0k=</td>\n",
       "      <td>Honduras</td>\n",
       "      <td>Nena y gordo son mi vida 😍😘</td>\n",
       "      <td>NaN</td>\n",
       "      <td>91</td>\n",
       "      <td>138</td>\n",
       "      <td>2017-12-01</td>\n",
       "      <td>...</td>\n",
       "      <td>absent</td>\n",
       "      <td>absent</td>\n",
       "      <td>0.0</td>\n",
       "      <td>0.0</td>\n",
       "      <td>0.0</td>\n",
       "      <td>0.0</td>\n",
       "      <td>[]</td>\n",
       "      <td>[]</td>\n",
       "      <td>['58244743']</td>\n",
       "      <td>NaN</td>\n",
       "    </tr>\n",
       "    <tr>\n",
       "      <th>4</th>\n",
       "      <td>1012050491671531520</td>\n",
       "      <td>L7dE0uNzsF7jsB9YfAfBc2qBOPuw+jbDuSdBAfiRQ0k=</td>\n",
       "      <td>L7dE0uNzsF7jsB9YfAfBc2qBOPuw+jbDuSdBAfiRQ0k=</td>\n",
       "      <td>L7dE0uNzsF7jsB9YfAfBc2qBOPuw+jbDuSdBAfiRQ0k=</td>\n",
       "      <td>Honduras</td>\n",
       "      <td>Nena y gordo son mi vida 😍😘</td>\n",
       "      <td>NaN</td>\n",
       "      <td>91</td>\n",
       "      <td>138</td>\n",
       "      <td>2017-12-01</td>\n",
       "      <td>...</td>\n",
       "      <td>absent</td>\n",
       "      <td>absent</td>\n",
       "      <td>0.0</td>\n",
       "      <td>0.0</td>\n",
       "      <td>0.0</td>\n",
       "      <td>0.0</td>\n",
       "      <td>[]</td>\n",
       "      <td>[]</td>\n",
       "      <td>['58244743']</td>\n",
       "      <td>NaN</td>\n",
       "    </tr>\n",
       "  </tbody>\n",
       "</table>\n",
       "<p>5 rows × 31 columns</p>\n",
       "</div>"
      ],
      "text/plain": [
       "               tweetid                                        userid  \\\n",
       "0   996128614897934336  L7dE0uNzsF7jsB9YfAfBc2qBOPuw+jbDuSdBAfiRQ0k=   \n",
       "1   968912372512493568  L7dE0uNzsF7jsB9YfAfBc2qBOPuw+jbDuSdBAfiRQ0k=   \n",
       "2  1022125643784445952  L7dE0uNzsF7jsB9YfAfBc2qBOPuw+jbDuSdBAfiRQ0k=   \n",
       "3   990399838603960320  L7dE0uNzsF7jsB9YfAfBc2qBOPuw+jbDuSdBAfiRQ0k=   \n",
       "4  1012050491671531520  L7dE0uNzsF7jsB9YfAfBc2qBOPuw+jbDuSdBAfiRQ0k=   \n",
       "\n",
       "                              user_display_name  \\\n",
       "0  L7dE0uNzsF7jsB9YfAfBc2qBOPuw+jbDuSdBAfiRQ0k=   \n",
       "1  L7dE0uNzsF7jsB9YfAfBc2qBOPuw+jbDuSdBAfiRQ0k=   \n",
       "2  L7dE0uNzsF7jsB9YfAfBc2qBOPuw+jbDuSdBAfiRQ0k=   \n",
       "3  L7dE0uNzsF7jsB9YfAfBc2qBOPuw+jbDuSdBAfiRQ0k=   \n",
       "4  L7dE0uNzsF7jsB9YfAfBc2qBOPuw+jbDuSdBAfiRQ0k=   \n",
       "\n",
       "                               user_screen_name user_reported_location  \\\n",
       "0  L7dE0uNzsF7jsB9YfAfBc2qBOPuw+jbDuSdBAfiRQ0k=               Honduras   \n",
       "1  L7dE0uNzsF7jsB9YfAfBc2qBOPuw+jbDuSdBAfiRQ0k=               Honduras   \n",
       "2  L7dE0uNzsF7jsB9YfAfBc2qBOPuw+jbDuSdBAfiRQ0k=               Honduras   \n",
       "3  L7dE0uNzsF7jsB9YfAfBc2qBOPuw+jbDuSdBAfiRQ0k=               Honduras   \n",
       "4  L7dE0uNzsF7jsB9YfAfBc2qBOPuw+jbDuSdBAfiRQ0k=               Honduras   \n",
       "\n",
       "      user_profile_description user_profile_url  follower_count  \\\n",
       "0  Nena y gordo son mi vida 😍😘              NaN              91   \n",
       "1  Nena y gordo son mi vida 😍😘              NaN              91   \n",
       "2  Nena y gordo son mi vida 😍😘              NaN              91   \n",
       "3  Nena y gordo son mi vida 😍😘              NaN              91   \n",
       "4  Nena y gordo son mi vida 😍😘              NaN              91   \n",
       "\n",
       "   following_count account_creation_date  ... latitude longitude quote_count  \\\n",
       "0              138            2017-12-01  ...   absent    absent         0.0   \n",
       "1              138            2017-12-01  ...   absent    absent         0.0   \n",
       "2              138            2017-12-01  ...   absent    absent         0.0   \n",
       "3              138            2017-12-01  ...   absent    absent         0.0   \n",
       "4              138            2017-12-01  ...   absent    absent         0.0   \n",
       "\n",
       "  reply_count like_count retweet_count       hashtags  urls  user_mentions  \\\n",
       "0         0.0        0.0           0.0  ['VidaMejor']    []   ['58244743']   \n",
       "1         0.0        0.0           0.0             []    []   ['58244743']   \n",
       "2         0.0        0.0           0.0             []    []   ['58244743']   \n",
       "3         0.0        0.0           0.0             []    []   ['58244743']   \n",
       "4         0.0        0.0           0.0             []    []   ['58244743']   \n",
       "\n",
       "  poll_choices  \n",
       "0          NaN  \n",
       "1          NaN  \n",
       "2          NaN  \n",
       "3          NaN  \n",
       "4          NaN  \n",
       "\n",
       "[5 rows x 31 columns]"
      ]
     },
     "execution_count": 3,
     "metadata": {},
     "output_type": "execute_result"
    }
   ],
   "source": [
    "honduras_tweets.head()"
   ]
  },
  {
   "cell_type": "code",
   "execution_count": 4,
   "metadata": {},
   "outputs": [
    {
     "name": "stdout",
     "output_type": "stream",
     "text": [
      "(1165019, 31)\n"
     ]
    },
    {
     "data": {
      "text/plain": [
       "tweetid                              int64\n",
       "userid                              object\n",
       "user_display_name                   object\n",
       "user_screen_name                    object\n",
       "user_reported_location              object\n",
       "user_profile_description            object\n",
       "user_profile_url                    object\n",
       "follower_count                       int64\n",
       "following_count                      int64\n",
       "account_creation_date               object\n",
       "account_language                    object\n",
       "tweet_language                      object\n",
       "tweet_text                          object\n",
       "tweet_time                  datetime64[ns]\n",
       "tweet_client_name                   object\n",
       "in_reply_to_userid                  object\n",
       "in_reply_to_tweetid                float64\n",
       "quoted_tweet_tweetid               float64\n",
       "is_retweet                            bool\n",
       "retweet_userid                      object\n",
       "retweet_tweetid                    float64\n",
       "latitude                            object\n",
       "longitude                           object\n",
       "quote_count                        float64\n",
       "reply_count                        float64\n",
       "like_count                         float64\n",
       "retweet_count                      float64\n",
       "hashtags                            object\n",
       "urls                                object\n",
       "user_mentions                       object\n",
       "poll_choices                       float64\n",
       "dtype: object"
      ]
     },
     "execution_count": 4,
     "metadata": {},
     "output_type": "execute_result"
    }
   ],
   "source": [
    "# Cast tweet time field to a datetime object\n",
    "honduras_tweets[\"tweet_time\"] = pd.to_datetime(honduras_tweets[\"tweet_time\"])\n",
    "\n",
    "honduras_tweets[\"user_profile_description\"].fillna(\"\", inplace=True)\n",
    "\n",
    "print(honduras_tweets.shape)\n",
    "honduras_tweets.dtypes"
   ]
  },
  {
   "cell_type": "code",
   "execution_count": 6,
   "metadata": {},
   "outputs": [],
   "source": [
    "def tweet_count(df):\n",
    "    \"\"\"\n",
    "    Create dataframe that counts the number of tweets on each day.\n",
    "    \"\"\"\n",
    "    tweet_count_df = df[\"tweet_time\"] \\\n",
    "        .dt.floor(\"d\") \\\n",
    "        .value_counts() \\\n",
    "        .rename_axis(\"date\") \\\n",
    "        .sort_index(ascending=True)\n",
    "    return tweet_count_df"
   ]
  },
  {
   "cell_type": "code",
   "execution_count": 11,
   "metadata": {},
   "outputs": [
    {
     "data": {
      "image/png": "[encoded data removed]",
      "text/plain": [
       "<Figure size 432x288 with 1 Axes>"
      ]
     },
     "metadata": {
      "needs_background": "light"
     },
     "output_type": "display_data"
    }
   ],
   "source": [
    "all_tweet_count_df = tweet_count(honduras_tweets)\n",
    "\n",
    "all_tweet_count_df.head()\n",
    "\n",
    "all_tweet_count_df.plot();"
   ]
  },
  {
   "cell_type": "code",
   "execution_count": 20,
   "metadata": {},
   "outputs": [
    {
     "data": {
      "text/plain": [
       "0                       nena y gordo son mi vida 😍😘\n",
       "18                                la vida es bella.\n",
       "29                                                 \n",
       "52    ciborg en resistencia, por una honduras libre\n",
       "53                                   amor todo tuyo\n",
       "Name: user_profile_description, dtype: object"
      ]
     },
     "execution_count": 20,
     "metadata": {},
     "output_type": "execute_result"
    }
   ],
   "source": [
    "honduras_tweets[\"user_profile_description\"].drop_duplicates().str.lower().head()"
   ]
  },
  {
   "cell_type": "code",
   "execution_count": 36,
   "metadata": {
    "scrolled": false
   },
   "outputs": [
    {
     "name": "stdout",
     "output_type": "stream",
     "text": [
      "97 unique users have \"sexi\" in their description.\n",
      "There are 3007 total unique users in the dataset.\n",
      "That's 3.23%\n"
     ]
    },
    {
     "data": {
      "image/png": "[encoded data removed]",
      "text/plain": [
       "<Figure size 432x288 with 1 Axes>"
      ]
     },
     "metadata": {
      "needs_background": "light"
     },
     "output_type": "display_data"
    }
   ],
   "source": [
    "desc_str = \"sexi\"\n",
    "\n",
    "filtered_user_df = honduras_tweets[honduras_tweets[\"user_profile_description\"] \\\n",
    "    .str \\\n",
    "    .lower() \\\n",
    "    .str \\\n",
    "    .contains(desc_str)]\n",
    "\n",
    "filtered_user_count = len(set(filtered_user_df[\"userid\"].values.tolist()))\n",
    "total_user_count = len(set(honduras_tweets[\"userid\"].values.tolist()))\n",
    "\n",
    "print(f'{filtered_user_count} unique users have \"{desc_str}\" in their description.')\n",
    "print(f'There are {total_user_count} total unique users in the dataset.')\n",
    "print(f\"That's {(filtered_user_count / total_user_count):.2%}\")\n",
    "\n",
    "filtered_user_tweet_count = tweet_count(filtered_user_df)\n",
    "\n",
    "filtered_user_tweet_count.plot();"
   ]
  },
  {
   "cell_type": "code",
   "execution_count": 38,
   "metadata": {},
   "outputs": [
    {
     "data": {
      "text/plain": [
       "61     RT @JuanOrlandoH: Crecí escuchando HRN. Felici...\n",
       "62     RT @JuanOrlandoH: Saludos y un abrazo fraterno...\n",
       "63     RT @JuanOrlandoH: Participó en estos momentos ...\n",
       "223    RT @JuanOrlandoH: Nuestro compromiso por trans...\n",
       "325    RT @JuanOrlandoH: Ruinas de Copán nos espera p...\n",
       "Name: tweet_text, dtype: object"
      ]
     },
     "execution_count": 38,
     "metadata": {},
     "output_type": "execute_result"
    }
   ],
   "source": [
    "filtered_user_df[\"tweet_text\"].head()"
   ]
  },
  {
   "cell_type": "code",
   "execution_count": 42,
   "metadata": {},
   "outputs": [
    {
     "data": {
      "text/html": [
       "<div>\n",
       "<style scoped>\n",
       "    .dataframe tbody tr th:only-of-type {\n",
       "        vertical-align: middle;\n",
       "    }\n",
       "\n",
       "    .dataframe tbody tr th {\n",
       "        vertical-align: top;\n",
       "    }\n",
       "\n",
       "    .dataframe thead th {\n",
       "        text-align: right;\n",
       "    }\n",
       "</style>\n",
       "<table border=\"1\" class=\"dataframe\">\n",
       "  <thead>\n",
       "    <tr style=\"text-align: right;\">\n",
       "      <th></th>\n",
       "      <th>tweet_text</th>\n",
       "      <th>tweet_time</th>\n",
       "    </tr>\n",
       "  </thead>\n",
       "  <tbody>\n",
       "    <tr>\n",
       "      <th>61</th>\n",
       "      <td>RT @JuanOrlandoH: Crecí escuchando HRN. Felici...</td>\n",
       "      <td>2019-11-01 16:51:00</td>\n",
       "    </tr>\n",
       "    <tr>\n",
       "      <th>62</th>\n",
       "      <td>RT @JuanOrlandoH: Saludos y un abrazo fraterno...</td>\n",
       "      <td>2019-08-09 15:29:00</td>\n",
       "    </tr>\n",
       "    <tr>\n",
       "      <th>63</th>\n",
       "      <td>RT @JuanOrlandoH: Participó en estos momentos ...</td>\n",
       "      <td>2019-09-23 15:55:00</td>\n",
       "    </tr>\n",
       "    <tr>\n",
       "      <th>223</th>\n",
       "      <td>RT @JuanOrlandoH: Nuestro compromiso por trans...</td>\n",
       "      <td>2019-10-24 16:39:00</td>\n",
       "    </tr>\n",
       "    <tr>\n",
       "      <th>325</th>\n",
       "      <td>RT @JuanOrlandoH: Ruinas de Copán nos espera p...</td>\n",
       "      <td>2019-12-30 18:12:00</td>\n",
       "    </tr>\n",
       "    <tr>\n",
       "      <th>...</th>\n",
       "      <td>...</td>\n",
       "      <td>...</td>\n",
       "    </tr>\n",
       "    <tr>\n",
       "      <th>1144894</th>\n",
       "      <td>@elpulsohn Que barbaridad ben vez de ver lo po...</td>\n",
       "      <td>2019-11-13 19:02:00</td>\n",
       "    </tr>\n",
       "    <tr>\n",
       "      <th>1146848</th>\n",
       "      <td>@HoyMismoTSI Grandes resultados que gran maner...</td>\n",
       "      <td>2019-10-14 16:42:00</td>\n",
       "    </tr>\n",
       "    <tr>\n",
       "      <th>1156414</th>\n",
       "      <td>@HoyMismoTSI Les deseamos un grandioso excito ...</td>\n",
       "      <td>2019-10-10 17:13:00</td>\n",
       "    </tr>\n",
       "    <tr>\n",
       "      <th>1161525</th>\n",
       "      <td>@HoyMismoTSI Es muy bueno lo que se ve por que...</td>\n",
       "      <td>2019-11-04 16:22:00</td>\n",
       "    </tr>\n",
       "    <tr>\n",
       "      <th>1164494</th>\n",
       "      <td>@HoyMismoTSI Estamos muy contentos de ver los ...</td>\n",
       "      <td>2019-11-07 17:00:00</td>\n",
       "    </tr>\n",
       "  </tbody>\n",
       "</table>\n",
       "<p>7725 rows × 2 columns</p>\n",
       "</div>"
      ],
      "text/plain": [
       "                                                tweet_text          tweet_time\n",
       "61       RT @JuanOrlandoH: Crecí escuchando HRN. Felici... 2019-11-01 16:51:00\n",
       "62       RT @JuanOrlandoH: Saludos y un abrazo fraterno... 2019-08-09 15:29:00\n",
       "63       RT @JuanOrlandoH: Participó en estos momentos ... 2019-09-23 15:55:00\n",
       "223      RT @JuanOrlandoH: Nuestro compromiso por trans... 2019-10-24 16:39:00\n",
       "325      RT @JuanOrlandoH: Ruinas de Copán nos espera p... 2019-12-30 18:12:00\n",
       "...                                                    ...                 ...\n",
       "1144894  @elpulsohn Que barbaridad ben vez de ver lo po... 2019-11-13 19:02:00\n",
       "1146848  @HoyMismoTSI Grandes resultados que gran maner... 2019-10-14 16:42:00\n",
       "1156414  @HoyMismoTSI Les deseamos un grandioso excito ... 2019-10-10 17:13:00\n",
       "1161525  @HoyMismoTSI Es muy bueno lo que se ve por que... 2019-11-04 16:22:00\n",
       "1164494  @HoyMismoTSI Estamos muy contentos de ver los ... 2019-11-07 17:00:00\n",
       "\n",
       "[7725 rows x 2 columns]"
      ]
     },
     "execution_count": 42,
     "metadata": {},
     "output_type": "execute_result"
    }
   ],
   "source": [
    "filtered_user_df[[\"tweet_text\", \"tweet_time\"]]"
   ]
  },
  {
   "cell_type": "code",
   "execution_count": 44,
   "metadata": {},
   "outputs": [],
   "source": [
    "filtered_user_df[[\"tweet_text\", \"tweet_time\"]].to_csv('../output/sexi_honduras_tweets.csv')"
   ]
  },
  {
   "cell_type": "code",
   "execution_count": 50,
   "metadata": {},
   "outputs": [
    {
     "name": "stdout",
     "output_type": "stream",
     "text": [
      "49 unique users have \"bella\" in their description.\n",
      "There are 3007 total unique users in the dataset.\n",
      "That's 1.63%\n"
     ]
    }
   ],
   "source": [
    "desc_str2 = \"bella\"\n",
    "\n",
    "filtered_user2_df = honduras_tweets[honduras_tweets[\"user_profile_description\"] \\\n",
    "    .str \\\n",
    "    .lower() \\\n",
    "    .str \\\n",
    "    .contains(desc_str2)]\n",
    "\n",
    "filtered_user_count2 = len(set(filtered_user2_df[\"userid\"].values.tolist()))\n",
    "total_user_count2 = len(set(honduras_tweets[\"userid\"].values.tolist()))\n",
    "\n",
    "print(f'{filtered_user_count2} unique users have \"{desc_str2}\" in their description.')\n",
    "print(f'There are {total_user_count2} total unique users in the dataset.')\n",
    "print(f\"That's {(filtered_user_count2 / total_user_count2):.2%}\")\n",
    "\n",
    "filtered_user_tweet_count2 = tweet_count(filtered_user2_df)  "
   ]
  },
  {
   "cell_type": "code",
   "execution_count": null,
   "metadata": {},
   "outputs": [],
   "source": []
  }
 ],
 "metadata": {
  "kernelspec": {
   "display_name": "social-web",
   "language": "python",
   "name": "social-web"
  },
  "language_info": {
   "codemirror_mode": {
    "name": "ipython",
    "version": 3
   },
   "file_extension": ".py",
   "mimetype": "text/x-python",
   "name": "python",
   "nbconvert_exporter": "python",
   "pygments_lexer": "ipython3",
   "version": "3.7.7"
  }
 },
 "nbformat": 4,
 "nbformat_minor": 4
}
